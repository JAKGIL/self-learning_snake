{
 "cells": [
  {
   "cell_type": "code",
   "execution_count": 1,
   "metadata": {},
   "outputs": [
    {
     "name": "stdout",
     "output_type": "stream",
     "text": [
      "pygame 2.1.2 (SDL 2.0.16, Python 3.10.6)\n",
      "Hello from the pygame community. https://www.pygame.org/contribute.html\n"
     ]
    }
   ],
   "source": [
    "import gym \n",
    "from gym import Env\n",
    "from gym.spaces import Discrete, Box, Dict, Tuple, MultiBinary, MultiDiscrete\n",
    "\n",
    "import numpy as np\n",
    "import random\n",
    "import os\n",
    "\n",
    "from stable_baselines3 import PPO\n",
    "from stable_baselines3.common.vec_env import DummyVecEnv\n",
    "from stable_baselines3.common.evaluation import evaluate_policy\n",
    "\n",
    "import pygame\n",
    "from time import sleep\n",
    "import Functions_and_classes"
   ]
  },
  {
   "cell_type": "markdown",
   "metadata": {},
   "source": [
    "Buliding an Enviroment"
   ]
  },
  {
   "cell_type": "code",
   "execution_count": 2,
   "metadata": {},
   "outputs": [],
   "source": [
    "WIDTH = Functions_and_classes.WIDTH\n",
    "HEIGHT = Functions_and_classes.HEIGHT\n",
    "class SnakeEnv(Env):\n",
    "    def __init__(self):\n",
    "        #Things for stable_baselines3\n",
    "        self.action_space = Discrete(4) # --> 0 - free space, 1 - Head, 2 - Tail, 3 - Star\n",
    "        self.observation_space = Box(low=0, high=5, shape=(WIDTH, HEIGHT), dtype=int)\n",
    "        self.game_lenght = 100\n",
    "        self.Hero = Functions_and_classes.Snake()\n",
    "        self.last_score = self.Hero.score \n",
    "\n",
    "        #Seting window options\n",
    "        pygame.display.set_caption(\"Snake\")\n",
    "        pygame.display.update()\n",
    "        \n",
    "        #Making stars\n",
    "        self.star_list = []\n",
    "        for i in range(int(WIDTH/30)):\n",
    "            for j in range(int(HEIGHT/30)):\n",
    "                if self.observation_space[i][j] == 3:\n",
    "                    star_list.append(Star(i, j))    \n",
    "        pass\n",
    "    \n",
    "    def step(self, action):\n",
    "\n",
    "        if (self.Hero.score > self.last_score) and (len(self.star_list) != WIDTH/60):\n",
    "            self.star_list.pop(-1)\n",
    "            self.last_score = self.Hero.score\n",
    "\n",
    "        # Score sign\n",
    "        label = normal_size.render(\"Score: {0}\".format(Hero.score), 12, (0,0,0))\n",
    "        self.WINDOW.blit(label, (0, 0))\n",
    "        for i in star_list:\n",
    "            i.draw()\n",
    "        \n",
    "        #Difrent action changing state\n",
    "        # Left = 0, Up = 1, Right = 2, Down =3\n",
    "        if action == 0:\n",
    "            self.Hero.rotate(90)\n",
    "        if action == 2:\n",
    "            self.Hero.rotate(270)\n",
    "        if action == 3:\n",
    "            self.Hero.rotate(180)\n",
    "        if action == 1:\n",
    "            self.Hero.rotate(0)  \n",
    "\n",
    "        pygame.display.update()\n",
    "\n",
    "        info = {}\n",
    "\n",
    "        return self.observation_space, reward, done, info\n",
    "    \n",
    "    def render(self):\n",
    "        pass\n",
    "    \n",
    "    def reset(self):\n",
    "        pass"
   ]
  },
  {
   "cell_type": "code",
   "execution_count": 3,
   "metadata": {},
   "outputs": [
    {
     "ename": "TypeError",
     "evalue": "'Box' object is not subscriptable",
     "output_type": "error",
     "traceback": [
      "\u001b[0;31m---------------------------------------------------------------------------\u001b[0m",
      "\u001b[0;31mTypeError\u001b[0m                                 Traceback (most recent call last)",
      "\u001b[1;32m/home/jakub/self-learning_snake/Learning.ipynb Komórka 4\u001b[0m in \u001b[0;36m<cell line: 1>\u001b[0;34m()\u001b[0m\n\u001b[0;32m----> <a href='vscode-notebook-cell:/home/jakub/self-learning_snake/Learning.ipynb#X11sZmlsZQ%3D%3D?line=0'>1</a>\u001b[0m env \u001b[39m=\u001b[39m SnakeEnv()\n",
      "\u001b[1;32m/home/jakub/self-learning_snake/Learning.ipynb Komórka 4\u001b[0m in \u001b[0;36mSnakeEnv.__init__\u001b[0;34m(self)\u001b[0m\n\u001b[1;32m     <a href='vscode-notebook-cell:/home/jakub/self-learning_snake/Learning.ipynb#X11sZmlsZQ%3D%3D?line=17'>18</a>\u001b[0m \u001b[39mfor\u001b[39;00m i \u001b[39min\u001b[39;00m \u001b[39mrange\u001b[39m(\u001b[39mint\u001b[39m(WIDTH\u001b[39m/\u001b[39m\u001b[39m30\u001b[39m)):\n\u001b[1;32m     <a href='vscode-notebook-cell:/home/jakub/self-learning_snake/Learning.ipynb#X11sZmlsZQ%3D%3D?line=18'>19</a>\u001b[0m     \u001b[39mfor\u001b[39;00m j \u001b[39min\u001b[39;00m \u001b[39mrange\u001b[39m(\u001b[39mint\u001b[39m(HEIGHT\u001b[39m/\u001b[39m\u001b[39m30\u001b[39m)):\n\u001b[0;32m---> <a href='vscode-notebook-cell:/home/jakub/self-learning_snake/Learning.ipynb#X11sZmlsZQ%3D%3D?line=19'>20</a>\u001b[0m         \u001b[39mif\u001b[39;00m \u001b[39mself\u001b[39;49m\u001b[39m.\u001b[39;49mobservation_space[i][j] \u001b[39m==\u001b[39m \u001b[39m3\u001b[39m:\n\u001b[1;32m     <a href='vscode-notebook-cell:/home/jakub/self-learning_snake/Learning.ipynb#X11sZmlsZQ%3D%3D?line=20'>21</a>\u001b[0m             star_list\u001b[39m.\u001b[39mappend(Star(i, j))    \n\u001b[1;32m     <a href='vscode-notebook-cell:/home/jakub/self-learning_snake/Learning.ipynb#X11sZmlsZQ%3D%3D?line=21'>22</a>\u001b[0m \u001b[39mpass\u001b[39;00m\n",
      "\u001b[0;31mTypeError\u001b[0m: 'Box' object is not subscriptable"
     ]
    },
    {
     "ename": "",
     "evalue": "",
     "output_type": "error",
     "traceback": [
      "\u001b[1;31mJądro Kernel uległo awarii podczas wykonywania kodu w bieżącej komórce lub w poprzedniej komórce. Przejrzyj kod w komórkach, aby zidentyfikować możliwą przyczynę awarii. Kliknij <a href='https://aka.ms/vscodeJupyterKernelCrash'>tutaj</a>, aby uzyskać więcej informacji. W celu uzyskania dalszych szczegółów, wyświetl <a href='command:jupyter.viewOutput'>log</a> Jupyter."
     ]
    }
   ],
   "source": [
    "env = SnakeEnv()"
   ]
  }
 ],
 "metadata": {
  "kernelspec": {
   "display_name": "Python 3 (ipykernel)",
   "language": "python",
   "name": "python3"
  },
  "language_info": {
   "codemirror_mode": {
    "name": "ipython",
    "version": 3
   },
   "file_extension": ".py",
   "mimetype": "text/x-python",
   "name": "python",
   "nbconvert_exporter": "python",
   "pygments_lexer": "ipython3",
   "version": "3.10.6"
  },
  "orig_nbformat": 4
 },
 "nbformat": 4,
 "nbformat_minor": 2
}
