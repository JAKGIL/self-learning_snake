{
 "cells": [
  {
   "cell_type": "code",
   "execution_count": 1,
   "metadata": {},
   "outputs": [
    {
     "name": "stdout",
     "output_type": "stream",
     "text": [
      "pygame 2.1.2 (SDL 2.0.16, Python 3.10.6)\n",
      "Hello from the pygame community. https://www.pygame.org/contribute.html\n"
     ]
    }
   ],
   "source": [
    "import gym \n",
    "from gym import Env\n",
    "from gym.spaces import Discrete, Box, Dict, Tuple, MultiBinary, MultiDiscrete\n",
    "\n",
    "import numpy as np\n",
    "import random\n",
    "import os\n",
    "\n",
    "from stable_baselines3 import PPO\n",
    "from stable_baselines3.common.vec_env import DummyVecEnv\n",
    "from stable_baselines3.common.evaluation import evaluate_policy\n",
    "\n",
    "import pygame\n",
    "from time import sleep\n",
    "import Functions_and_classes\n",
    "from Functions_and_classes import Star\n",
    "from Functions_and_classes import star_position\n",
    "from Functions_and_classes import Snake_tail, Snake, Snake_head\n",
    "from Functions_and_classes import blit\n",
    "pygame.quit()"
   ]
  },
  {
   "cell_type": "markdown",
   "metadata": {},
   "source": [
    "Buliding an Enviroment"
   ]
  },
  {
   "cell_type": "code",
   "execution_count": 2,
   "metadata": {},
   "outputs": [],
   "source": [
    "#Settting constatnts\n",
    "\n",
    "WIDTH = HEIGHT = 900\n",
    "WINDOW = pygame.display.set_mode((WIDTH, HEIGHT))\n",
    "pygame.display.set_caption(\"Snake\")\n",
    "BACKGROUND = (186, 255, 255)\n",
    "FPS = WIDTH/20\n",
    "CLOCK = pygame.time.Clock()\n",
    "\n",
    "SNAKE_HEAD_IMG = pygame.image.load(os.path.join('Assets', 'Snake_head.png'))\n",
    "SNAKE_TAIL_IMG = pygame.image.load(os.path.join('Assets', 'Snake_tail.png'))\n",
    "SNAKE_HEAD = SNAKE_HEAD_IMG\n",
    "STAR_IMG = pygame.image.load(os.path.join('Assets', 'Star.png'))\n",
    "\n",
    "SPEED = 15\n",
    "\n",
    "pygame.font.init() \n",
    "normal_size = pygame.font.SysFont('Comic Sans MS', round(WIDTH/30))\n",
    "huge_size = pygame.font.SysFont('Comic Sans MS', round(HEIGHT/18))\n",
    "\n",
    "WINDOW.fill(BACKGROUND)\n",
    "pygame.display.update()\n",
    "label = huge_size.render(\"Welcome to Snake in Python!\", 12, (0,0,0))\n",
    "blit(label, (WIDTH/2)-(WIDTH/4), (HEIGHT/2)-(HEIGHT/9))\n",
    "\n",
    "pygame.display.update()\n",
    "\n"
   ]
  },
  {
   "cell_type": "code",
   "execution_count": 3,
   "metadata": {},
   "outputs": [],
   "source": [
    "def Make_board(star_list, head, tail_list):\n",
    "    Table = np.zeros(shape=(int(WIDTH), int(HEIGHT)))\n",
    "    \n",
    "    #Creating a board imagine\n",
    "    for star in star_list: #Setting stars\n",
    "        Table[int(star.Rectangle.x), int(star.Rectangle.y)] = 3 \n",
    "    \n",
    "    Table[int(head.Rectangle.x), int(head.Rectangle.y)] = 1 #Creating Head\n",
    "    for tail in tail_list:\n",
    "        Table[int(tail.Rectangle.x), int(tail.Rectangle.y)] = 2 #Creating tail\n",
    "    \n",
    "    return Table\n",
    "    "
   ]
  },
  {
   "cell_type": "code",
   "execution_count": 4,
   "metadata": {},
   "outputs": [],
   "source": [
    "#Hero = Snake()\n",
    "#board = Make_board(star_list=[Star(star_position(WIDTH), star_position(HEIGHT))], head=Hero, tail_list=Hero.list_of_tails)\n",
    "#from matplotlib import pyplot as plt\n",
    "#plt.imshow(np.array(board), interpolation='nearest')\n",
    "#plt.show()\n",
    "\n",
    "#pygame.quit()"
   ]
  },
  {
   "cell_type": "code",
   "execution_count": 5,
   "metadata": {},
   "outputs": [],
   "source": [
    "class SnakeEnv(Env):\n",
    "    def __init__(self):\n",
    "        #Things for stable_baselines3\n",
    "        self.action_space = Discrete(4) # --> 0 - free space, 1 - Head, 2 - Tail, 3 - Star\n",
    "        self.observation_space = Box(low=0, high=5, shape=(WIDTH, HEIGHT), dtype=int)\n",
    "        self.Hero = Snake()\n",
    "        self.last_score = self.Hero.score  #Setting init score\n",
    "        \n",
    "        #Creating a star list\n",
    "        star_list = [Star(star_position(WIDTH), star_position(HEIGHT))]\n",
    "        \n",
    "        for i in range(int(WIDTH/30)):\n",
    "            star_list.append(Star(star_position(WIDTH), star_position(HEIGHT)))\n",
    "        \n",
    "        self.star_list = star_list\n",
    "\n",
    "        #star_list_np = np.array([star_list.Rectangle.x, star_list.Rectangle.y], dtype=int) / 30 #Creating a np.array of position of stars in game space\n",
    "\n",
    "        self.state = Make_board(star_list=self.star_list, head=self.Hero, tail_list=self.Hero.list_of_tails)\n",
    "        print(type(self.state))\n",
    "        self.learing_time = 200\n",
    "        pass\n",
    "    \n",
    "    def step(self, action):\n",
    "        # INIT A NEXT STEP\n",
    "        \n",
    "        global FPS \n",
    "        local_FPS = self.Hero.score + FPS\n",
    "        CLOCK.tick(local_FPS) \n",
    "        WINDOW.fill(BACKGROUND)\n",
    "\n",
    "        if (self.Hero.score > self.last_score) and (len(self.star_list) != WIDTH/60):\n",
    "            self.star_list.pop(-1)\n",
    "            self.last_score = self.Hero.score\n",
    "\n",
    "        # Score sign\n",
    "        label = normal_size.render(\"Score: {0}\".format(self.Hero.score), 12, (0,0,0))\n",
    "        WINDOW.blit(label, (0, 0))\n",
    "        for i in self.star_list:\n",
    "            i.draw()\n",
    "        \n",
    "        reward = self.Hero.score\n",
    "        # MAKING ACTIONS\n",
    "        \n",
    "        #Difrent action changing state\n",
    "        # Left = 0, Up = 1, Right = 2, Down =3\n",
    "        if action == 0:\n",
    "            self.Hero.rotate(90)\n",
    "        if action == 2:\n",
    "            self.Hero.rotate(270)\n",
    "        if action == 3:\n",
    "            self.Hero.rotate(180)\n",
    "        if action == 1:\n",
    "            self.Hero.rotate(0)  \n",
    "\n",
    "\n",
    "        self.Hero.move() #Moving and colecting stars\n",
    "        for i in self.star_list:\n",
    "            self.Hero.collect_star(i)\n",
    "\n",
    "        # ENDING A STEP PROCESS\n",
    "        self.state = Make_board(star_list=self.star_list, head=self.Hero, tail_list=self.Hero.list_of_tails)\n",
    "\n",
    "        info = {}\n",
    "\n",
    "        if self.learing_time <= 0:\n",
    "            done = True\n",
    "        else:\n",
    "            self.learing_time -= 1\n",
    "            done = False\n",
    "\n",
    "        pygame.display.update() #Update at very end!\n",
    "\n",
    "        WINDOW.fill(BACKGROUND)    \n",
    "\n",
    "        return self.state, reward, done, info\n",
    "    \n",
    "    def render(self):\n",
    "        pass\n",
    "    \n",
    "    def reset(self):\n",
    "        self.Hero = Snake()\n",
    "        self.last_score = self.Hero.score  #Setting init score\n",
    "        \n",
    "        #Creating a star list\n",
    "        star_list = [Star(star_position(WIDTH), star_position(HEIGHT))]\n",
    "        \n",
    "        for i in range(int(WIDTH/30)):\n",
    "            star_list.append(Star(star_position(WIDTH), star_position(HEIGHT)))\n",
    "        \n",
    "        self.star_list = star_list\n",
    "\n",
    "        #star_list_np = np.array(star_list, dtype=int) / 30 #Creating a np.array of position of stars in game space\n",
    "\n",
    "        self.state = Make_board(star_list=self.star_list, head=self.Hero, tail_list=self.Hero.list_of_tails)\n",
    "\n",
    "        self.learing_time = 200\n",
    "        \n",
    "        return self.state\n",
    "\n",
    "    def close(self):\n",
    "        pygame.quit()\n",
    "        pass"
   ]
  },
  {
   "cell_type": "code",
   "execution_count": 6,
   "metadata": {},
   "outputs": [
    {
     "name": "stdout",
     "output_type": "stream",
     "text": [
      "<class 'numpy.ndarray'>\n"
     ]
    }
   ],
   "source": [
    "env = SnakeEnv()\n",
    "env = DummyVecEnv([lambda: env])"
   ]
  },
  {
   "cell_type": "code",
   "execution_count": 7,
   "metadata": {},
   "outputs": [
    {
     "name": "stdout",
     "output_type": "stream",
     "text": [
      "Using cpu device\n"
     ]
    }
   ],
   "source": [
    "log_path = os.path.join('Training', 'Logs')\n",
    "model = PPO('MlpPolicy', env, verbose=1, tensorboard_log=log_path)"
   ]
  },
  {
   "cell_type": "code",
   "execution_count": 8,
   "metadata": {},
   "outputs": [
    {
     "name": "stderr",
     "output_type": "stream",
     "text": [
      "2022-09-19 20:55:34.528556: I tensorflow/core/platform/cpu_feature_guard.cc:193] This TensorFlow binary is optimized with oneAPI Deep Neural Network Library (oneDNN) to use the following CPU instructions in performance-critical operations:  AVX2 FMA\n",
      "To enable them in other operations, rebuild TensorFlow with the appropriate compiler flags.\n",
      "2022-09-19 20:55:34.861782: W tensorflow/stream_executor/platform/default/dso_loader.cc:64] Could not load dynamic library 'libcudart.so.11.0'; dlerror: libcudart.so.11.0: cannot open shared object file: No such file or directory; LD_LIBRARY_PATH: /home/jakub/.local/lib/python3.10/site-packages/cv2/../../lib64:\n",
      "2022-09-19 20:55:34.861817: I tensorflow/stream_executor/cuda/cudart_stub.cc:29] Ignore above cudart dlerror if you do not have a GPU set up on your machine.\n",
      "2022-09-19 20:55:34.890191: E tensorflow/stream_executor/cuda/cuda_blas.cc:2981] Unable to register cuBLAS factory: Attempting to register factory for plugin cuBLAS when one has already been registered\n",
      "2022-09-19 20:55:35.602548: W tensorflow/stream_executor/platform/default/dso_loader.cc:64] Could not load dynamic library 'libnvinfer.so.7'; dlerror: libnvinfer.so.7: cannot open shared object file: No such file or directory; LD_LIBRARY_PATH: /home/jakub/.local/lib/python3.10/site-packages/cv2/../../lib64:\n",
      "2022-09-19 20:55:35.602622: W tensorflow/stream_executor/platform/default/dso_loader.cc:64] Could not load dynamic library 'libnvinfer_plugin.so.7'; dlerror: libnvinfer_plugin.so.7: cannot open shared object file: No such file or directory; LD_LIBRARY_PATH: /home/jakub/.local/lib/python3.10/site-packages/cv2/../../lib64:\n",
      "2022-09-19 20:55:35.602629: W tensorflow/compiler/tf2tensorrt/utils/py_utils.cc:38] TF-TRT Warning: Cannot dlopen some TensorRT libraries. If you would like to use Nvidia GPU with TensorRT, please make sure the missing libraries mentioned above are installed properly.\n"
     ]
    },
    {
     "name": "stdout",
     "output_type": "stream",
     "text": [
      "Logging to Training/Logs/PPO_3\n"
     ]
    },
    {
     "ename": "IndexError",
     "evalue": "index 900 is out of bounds for axis 1 with size 900",
     "output_type": "error",
     "traceback": [
      "\u001b[0;31m---------------------------------------------------------------------------\u001b[0m",
      "\u001b[0;31mIndexError\u001b[0m                                Traceback (most recent call last)",
      "\u001b[1;32m/home/jakub/self-learning_snake/Learning.ipynb Komórka 9\u001b[0m in \u001b[0;36m<cell line: 1>\u001b[0;34m()\u001b[0m\n\u001b[0;32m----> <a href='vscode-notebook-cell:/home/jakub/self-learning_snake/Learning.ipynb#X12sZmlsZQ%3D%3D?line=0'>1</a>\u001b[0m model\u001b[39m.\u001b[39;49mlearn(total_timesteps\u001b[39m=\u001b[39;49m\u001b[39m100\u001b[39;49m)\n",
      "File \u001b[0;32m~/.local/lib/python3.10/site-packages/stable_baselines3/ppo/ppo.py:310\u001b[0m, in \u001b[0;36mPPO.learn\u001b[0;34m(self, total_timesteps, callback, log_interval, eval_env, eval_freq, n_eval_episodes, tb_log_name, eval_log_path, reset_num_timesteps)\u001b[0m\n\u001b[1;32m    297\u001b[0m \u001b[39mdef\u001b[39;00m \u001b[39mlearn\u001b[39m(\n\u001b[1;32m    298\u001b[0m     \u001b[39mself\u001b[39m,\n\u001b[1;32m    299\u001b[0m     total_timesteps: \u001b[39mint\u001b[39m,\n\u001b[0;32m   (...)\u001b[0m\n\u001b[1;32m    307\u001b[0m     reset_num_timesteps: \u001b[39mbool\u001b[39m \u001b[39m=\u001b[39m \u001b[39mTrue\u001b[39;00m,\n\u001b[1;32m    308\u001b[0m ) \u001b[39m-\u001b[39m\u001b[39m>\u001b[39m \u001b[39m\"\u001b[39m\u001b[39mPPO\u001b[39m\u001b[39m\"\u001b[39m:\n\u001b[0;32m--> 310\u001b[0m     \u001b[39mreturn\u001b[39;00m \u001b[39msuper\u001b[39;49m()\u001b[39m.\u001b[39;49mlearn(\n\u001b[1;32m    311\u001b[0m         total_timesteps\u001b[39m=\u001b[39;49mtotal_timesteps,\n\u001b[1;32m    312\u001b[0m         callback\u001b[39m=\u001b[39;49mcallback,\n\u001b[1;32m    313\u001b[0m         log_interval\u001b[39m=\u001b[39;49mlog_interval,\n\u001b[1;32m    314\u001b[0m         eval_env\u001b[39m=\u001b[39;49meval_env,\n\u001b[1;32m    315\u001b[0m         eval_freq\u001b[39m=\u001b[39;49meval_freq,\n\u001b[1;32m    316\u001b[0m         n_eval_episodes\u001b[39m=\u001b[39;49mn_eval_episodes,\n\u001b[1;32m    317\u001b[0m         tb_log_name\u001b[39m=\u001b[39;49mtb_log_name,\n\u001b[1;32m    318\u001b[0m         eval_log_path\u001b[39m=\u001b[39;49meval_log_path,\n\u001b[1;32m    319\u001b[0m         reset_num_timesteps\u001b[39m=\u001b[39;49mreset_num_timesteps,\n\u001b[1;32m    320\u001b[0m     )\n",
      "File \u001b[0;32m~/.local/lib/python3.10/site-packages/stable_baselines3/common/on_policy_algorithm.py:247\u001b[0m, in \u001b[0;36mOnPolicyAlgorithm.learn\u001b[0;34m(self, total_timesteps, callback, log_interval, eval_env, eval_freq, n_eval_episodes, tb_log_name, eval_log_path, reset_num_timesteps)\u001b[0m\n\u001b[1;32m    243\u001b[0m callback\u001b[39m.\u001b[39mon_training_start(\u001b[39mlocals\u001b[39m(), \u001b[39mglobals\u001b[39m())\n\u001b[1;32m    245\u001b[0m \u001b[39mwhile\u001b[39;00m \u001b[39mself\u001b[39m\u001b[39m.\u001b[39mnum_timesteps \u001b[39m<\u001b[39m total_timesteps:\n\u001b[0;32m--> 247\u001b[0m     continue_training \u001b[39m=\u001b[39m \u001b[39mself\u001b[39;49m\u001b[39m.\u001b[39;49mcollect_rollouts(\u001b[39mself\u001b[39;49m\u001b[39m.\u001b[39;49menv, callback, \u001b[39mself\u001b[39;49m\u001b[39m.\u001b[39;49mrollout_buffer, n_rollout_steps\u001b[39m=\u001b[39;49m\u001b[39mself\u001b[39;49m\u001b[39m.\u001b[39;49mn_steps)\n\u001b[1;32m    249\u001b[0m     \u001b[39mif\u001b[39;00m continue_training \u001b[39mis\u001b[39;00m \u001b[39mFalse\u001b[39;00m:\n\u001b[1;32m    250\u001b[0m         \u001b[39mbreak\u001b[39;00m\n",
      "File \u001b[0;32m~/.local/lib/python3.10/site-packages/stable_baselines3/common/on_policy_algorithm.py:175\u001b[0m, in \u001b[0;36mOnPolicyAlgorithm.collect_rollouts\u001b[0;34m(self, env, callback, rollout_buffer, n_rollout_steps)\u001b[0m\n\u001b[1;32m    172\u001b[0m \u001b[39mif\u001b[39;00m \u001b[39misinstance\u001b[39m(\u001b[39mself\u001b[39m\u001b[39m.\u001b[39maction_space, gym\u001b[39m.\u001b[39mspaces\u001b[39m.\u001b[39mBox):\n\u001b[1;32m    173\u001b[0m     clipped_actions \u001b[39m=\u001b[39m np\u001b[39m.\u001b[39mclip(actions, \u001b[39mself\u001b[39m\u001b[39m.\u001b[39maction_space\u001b[39m.\u001b[39mlow, \u001b[39mself\u001b[39m\u001b[39m.\u001b[39maction_space\u001b[39m.\u001b[39mhigh)\n\u001b[0;32m--> 175\u001b[0m new_obs, rewards, dones, infos \u001b[39m=\u001b[39m env\u001b[39m.\u001b[39;49mstep(clipped_actions)\n\u001b[1;32m    177\u001b[0m \u001b[39mself\u001b[39m\u001b[39m.\u001b[39mnum_timesteps \u001b[39m+\u001b[39m\u001b[39m=\u001b[39m env\u001b[39m.\u001b[39mnum_envs\n\u001b[1;32m    179\u001b[0m \u001b[39m# Give access to local variables\u001b[39;00m\n",
      "File \u001b[0;32m~/.local/lib/python3.10/site-packages/stable_baselines3/common/vec_env/base_vec_env.py:162\u001b[0m, in \u001b[0;36mVecEnv.step\u001b[0;34m(self, actions)\u001b[0m\n\u001b[1;32m    155\u001b[0m \u001b[39m\"\"\"\u001b[39;00m\n\u001b[1;32m    156\u001b[0m \u001b[39mStep the environments with the given action\u001b[39;00m\n\u001b[1;32m    157\u001b[0m \n\u001b[1;32m    158\u001b[0m \u001b[39m:param actions: the action\u001b[39;00m\n\u001b[1;32m    159\u001b[0m \u001b[39m:return: observation, reward, done, information\u001b[39;00m\n\u001b[1;32m    160\u001b[0m \u001b[39m\"\"\"\u001b[39;00m\n\u001b[1;32m    161\u001b[0m \u001b[39mself\u001b[39m\u001b[39m.\u001b[39mstep_async(actions)\n\u001b[0;32m--> 162\u001b[0m \u001b[39mreturn\u001b[39;00m \u001b[39mself\u001b[39;49m\u001b[39m.\u001b[39;49mstep_wait()\n",
      "File \u001b[0;32m~/.local/lib/python3.10/site-packages/stable_baselines3/common/vec_env/dummy_vec_env.py:43\u001b[0m, in \u001b[0;36mDummyVecEnv.step_wait\u001b[0;34m(self)\u001b[0m\n\u001b[1;32m     41\u001b[0m \u001b[39mdef\u001b[39;00m \u001b[39mstep_wait\u001b[39m(\u001b[39mself\u001b[39m) \u001b[39m-\u001b[39m\u001b[39m>\u001b[39m VecEnvStepReturn:\n\u001b[1;32m     42\u001b[0m     \u001b[39mfor\u001b[39;00m env_idx \u001b[39min\u001b[39;00m \u001b[39mrange\u001b[39m(\u001b[39mself\u001b[39m\u001b[39m.\u001b[39mnum_envs):\n\u001b[0;32m---> 43\u001b[0m         obs, \u001b[39mself\u001b[39m\u001b[39m.\u001b[39mbuf_rews[env_idx], \u001b[39mself\u001b[39m\u001b[39m.\u001b[39mbuf_dones[env_idx], \u001b[39mself\u001b[39m\u001b[39m.\u001b[39mbuf_infos[env_idx] \u001b[39m=\u001b[39m \u001b[39mself\u001b[39;49m\u001b[39m.\u001b[39;49menvs[env_idx]\u001b[39m.\u001b[39;49mstep(\n\u001b[1;32m     44\u001b[0m             \u001b[39mself\u001b[39;49m\u001b[39m.\u001b[39;49mactions[env_idx]\n\u001b[1;32m     45\u001b[0m         )\n\u001b[1;32m     46\u001b[0m         \u001b[39mif\u001b[39;00m \u001b[39mself\u001b[39m\u001b[39m.\u001b[39mbuf_dones[env_idx]:\n\u001b[1;32m     47\u001b[0m             \u001b[39m# save final observation where user can get it, then reset\u001b[39;00m\n\u001b[1;32m     48\u001b[0m             \u001b[39mself\u001b[39m\u001b[39m.\u001b[39mbuf_infos[env_idx][\u001b[39m\"\u001b[39m\u001b[39mterminal_observation\u001b[39m\u001b[39m\"\u001b[39m] \u001b[39m=\u001b[39m obs\n",
      "\u001b[1;32m/home/jakub/self-learning_snake/Learning.ipynb Komórka 9\u001b[0m in \u001b[0;36mSnakeEnv.step\u001b[0;34m(self, action)\u001b[0m\n\u001b[1;32m     <a href='vscode-notebook-cell:/home/jakub/self-learning_snake/Learning.ipynb#X12sZmlsZQ%3D%3D?line=58'>59</a>\u001b[0m     \u001b[39mself\u001b[39m\u001b[39m.\u001b[39mHero\u001b[39m.\u001b[39mcollect_star(i)\n\u001b[1;32m     <a href='vscode-notebook-cell:/home/jakub/self-learning_snake/Learning.ipynb#X12sZmlsZQ%3D%3D?line=60'>61</a>\u001b[0m \u001b[39m# ENDING A STEP PROCESS\u001b[39;00m\n\u001b[0;32m---> <a href='vscode-notebook-cell:/home/jakub/self-learning_snake/Learning.ipynb#X12sZmlsZQ%3D%3D?line=61'>62</a>\u001b[0m \u001b[39mself\u001b[39m\u001b[39m.\u001b[39mstate \u001b[39m=\u001b[39m Make_board(star_list\u001b[39m=\u001b[39;49m\u001b[39mself\u001b[39;49m\u001b[39m.\u001b[39;49mstar_list, head\u001b[39m=\u001b[39;49m\u001b[39mself\u001b[39;49m\u001b[39m.\u001b[39;49mHero, tail_list\u001b[39m=\u001b[39;49m\u001b[39mself\u001b[39;49m\u001b[39m.\u001b[39;49mHero\u001b[39m.\u001b[39;49mlist_of_tails)\n\u001b[1;32m     <a href='vscode-notebook-cell:/home/jakub/self-learning_snake/Learning.ipynb#X12sZmlsZQ%3D%3D?line=63'>64</a>\u001b[0m info \u001b[39m=\u001b[39m {}\n\u001b[1;32m     <a href='vscode-notebook-cell:/home/jakub/self-learning_snake/Learning.ipynb#X12sZmlsZQ%3D%3D?line=65'>66</a>\u001b[0m \u001b[39mif\u001b[39;00m \u001b[39mself\u001b[39m\u001b[39m.\u001b[39mlearing_time \u001b[39m<\u001b[39m\u001b[39m=\u001b[39m \u001b[39m0\u001b[39m:\n",
      "\u001b[1;32m/home/jakub/self-learning_snake/Learning.ipynb Komórka 9\u001b[0m in \u001b[0;36mMake_board\u001b[0;34m(star_list, head, tail_list)\u001b[0m\n\u001b[1;32m      <a href='vscode-notebook-cell:/home/jakub/self-learning_snake/Learning.ipynb#X12sZmlsZQ%3D%3D?line=4'>5</a>\u001b[0m \u001b[39mfor\u001b[39;00m star \u001b[39min\u001b[39;00m star_list: \u001b[39m#Setting stars\u001b[39;00m\n\u001b[1;32m      <a href='vscode-notebook-cell:/home/jakub/self-learning_snake/Learning.ipynb#X12sZmlsZQ%3D%3D?line=5'>6</a>\u001b[0m     Table[\u001b[39mint\u001b[39m(star\u001b[39m.\u001b[39mRectangle\u001b[39m.\u001b[39mx), \u001b[39mint\u001b[39m(star\u001b[39m.\u001b[39mRectangle\u001b[39m.\u001b[39my)] \u001b[39m=\u001b[39m \u001b[39m3\u001b[39m \n\u001b[0;32m----> <a href='vscode-notebook-cell:/home/jakub/self-learning_snake/Learning.ipynb#X12sZmlsZQ%3D%3D?line=7'>8</a>\u001b[0m Table[\u001b[39mint\u001b[39;49m(head\u001b[39m.\u001b[39;49mRectangle\u001b[39m.\u001b[39;49mx), \u001b[39mint\u001b[39;49m(head\u001b[39m.\u001b[39;49mRectangle\u001b[39m.\u001b[39;49my)] \u001b[39m=\u001b[39m \u001b[39m1\u001b[39m \u001b[39m#Creating Head\u001b[39;00m\n\u001b[1;32m      <a href='vscode-notebook-cell:/home/jakub/self-learning_snake/Learning.ipynb#X12sZmlsZQ%3D%3D?line=8'>9</a>\u001b[0m \u001b[39mfor\u001b[39;00m tail \u001b[39min\u001b[39;00m tail_list:\n\u001b[1;32m     <a href='vscode-notebook-cell:/home/jakub/self-learning_snake/Learning.ipynb#X12sZmlsZQ%3D%3D?line=9'>10</a>\u001b[0m     Table[\u001b[39mint\u001b[39m(tail\u001b[39m.\u001b[39mRectangle\u001b[39m.\u001b[39mx), \u001b[39mint\u001b[39m(tail\u001b[39m.\u001b[39mRectangle\u001b[39m.\u001b[39my)] \u001b[39m=\u001b[39m \u001b[39m2\u001b[39m \u001b[39m#Creating tail\u001b[39;00m\n",
      "\u001b[0;31mIndexError\u001b[0m: index 900 is out of bounds for axis 1 with size 900"
     ]
    },
    {
     "ename": "",
     "evalue": "",
     "output_type": "error",
     "traceback": [
      "\u001b[1;31mJądro Kernel uległo awarii podczas wykonywania kodu w bieżącej komórce lub w poprzedniej komórce. Przejrzyj kod w komórkach, aby zidentyfikować możliwą przyczynę awarii. Kliknij <a href='https://aka.ms/vscodeJupyterKernelCrash'>tutaj</a>, aby uzyskać więcej informacji. W celu uzyskania dalszych szczegółów, wyświetl <a href='command:jupyter.viewOutput'>log</a> Jupyter."
     ]
    }
   ],
   "source": [
    "model.learn(total_timesteps=100)"
   ]
  },
  {
   "cell_type": "code",
   "execution_count": null,
   "metadata": {},
   "outputs": [],
   "source": [
    "model.save(os.path.join('Training', 'Saved_models', 'Snake_PPO_100'))"
   ]
  },
  {
   "cell_type": "code",
   "execution_count": null,
   "metadata": {},
   "outputs": [],
   "source": [
    "env.close()"
   ]
  }
 ],
 "metadata": {
  "kernelspec": {
   "display_name": "Python 3.10.6 64-bit",
   "language": "python",
   "name": "python3"
  },
  "language_info": {
   "codemirror_mode": {
    "name": "ipython",
    "version": 3
   },
   "file_extension": ".py",
   "mimetype": "text/x-python",
   "name": "python",
   "nbconvert_exporter": "python",
   "pygments_lexer": "ipython3",
   "version": "3.10.6"
  },
  "orig_nbformat": 4,
  "vscode": {
   "interpreter": {
    "hash": "e7370f93d1d0cde622a1f8e1c04877d8463912d04d973331ad4851f04de6915a"
   }
  }
 },
 "nbformat": 4,
 "nbformat_minor": 2
}
