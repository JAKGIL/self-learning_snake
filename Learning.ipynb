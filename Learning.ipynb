{
 "cells": [
  {
   "cell_type": "code",
   "execution_count": 23,
   "metadata": {},
   "outputs": [],
   "source": [
    "import gym \n",
    "from gym import Env\n",
    "from gym.spaces import Discrete, Box, Dict, Tuple, MultiBinary, MultiDiscrete\n",
    "\n",
    "import numpy as np\n",
    "import random\n",
    "import os\n",
    "\n",
    "from stable_baselines3 import PPO\n",
    "from stable_baselines3.common.vec_env import DummyVecEnv\n",
    "from stable_baselines3.common.evaluation import evaluate_policy\n",
    "\n",
    "import pygame\n",
    "from time import sleep\n",
    "import Functions_and_classes\n",
    "from Functions_and_classes import Star\n",
    "from Functions_and_classes import star_position\n",
    "from Functions_and_classes import Snake_tail, Snake, Snake_head\n",
    "from Functions_and_classes import blit"
   ]
  },
  {
   "cell_type": "markdown",
   "metadata": {},
   "source": [
    "Buliding an Enviroment"
   ]
  },
  {
   "cell_type": "code",
   "execution_count": 24,
   "metadata": {},
   "outputs": [],
   "source": [
    "#Settting constatnts\n",
    "\n",
    "WIDTH = HEIGHT = 900\n",
    "WINDOW = pygame.display.set_mode((WIDTH, HEIGHT))\n",
    "pygame.display.set_caption(\"Snake\")\n",
    "BACKGROUND = (186, 255, 255)\n",
    "FPS = WIDTH/20\n",
    "CLOCK = pygame.time.Clock()\n",
    "\n",
    "SNAKE_HEAD_IMG = pygame.image.load(os.path.join('Assets', 'Snake_head.png'))\n",
    "SNAKE_TAIL_IMG = pygame.image.load(os.path.join('Assets', 'Snake_tail.png'))\n",
    "SNAKE_HEAD = SNAKE_HEAD_IMG\n",
    "STAR_IMG = pygame.image.load(os.path.join('Assets', 'Star.png'))\n",
    "\n",
    "SPEED = 15\n",
    "\n",
    "pygame.font.init() \n",
    "normal_size = pygame.font.SysFont('Comic Sans MS', round(WIDTH/30))\n",
    "huge_size = pygame.font.SysFont('Comic Sans MS', round(HEIGHT/18))\n",
    "\n",
    "WINDOW.fill(BACKGROUND)\n",
    "pygame.display.update()\n",
    "label = huge_size.render(\"Welcome to Snake in Python!\", 12, (0,0,0))\n",
    "blit(label, (WIDTH/2)-(WIDTH/4), (HEIGHT/2)-(HEIGHT/9), window=WINDOW)\n",
    "pygame.display.update()\n",
    "\n"
   ]
  },
  {
   "cell_type": "code",
   "execution_count": 25,
   "metadata": {},
   "outputs": [],
   "source": [
    "def Make_board(star_list, head, tail_list):\n",
    "    Table = np.zeros(shape=(int(WIDTH), int(HEIGHT+2)))\n",
    "    \n",
    "    #Creating a board imagine\n",
    "    for star in star_list: #Setting stars\n",
    "        Table[int(star.Rectangle.x), int(star.Rectangle.y)] = 3 \n",
    "    \n",
    "    Table[int(head.Rectangle.x), int(head.Rectangle.y)] = 1 #Creating Head\n",
    "    for tail in tail_list:\n",
    "        Table[int(tail.Rectangle.x), int(tail.Rectangle.y)] = 2 #Creating tail\n",
    "    \n",
    "    return Table\n",
    "    "
   ]
  },
  {
   "cell_type": "code",
   "execution_count": 26,
   "metadata": {},
   "outputs": [],
   "source": [
    "class SnakeEnv(Env):\n",
    "    def __init__(self):\n",
    "        #Things for stable_baselines3\n",
    "        self.action_space = Discrete(4) # --> 0 - free space, 1 - Head, 2 - Tail, 3 - Star\n",
    "        self.observation_space = Box(low=0, high=5, shape=(WIDTH, HEIGHT+2), dtype=int)\n",
    "        self.Hero = Snake(window=WINDOW)\n",
    "        self.last_score = self.Hero.score  #Setting init score\n",
    "        \n",
    "        #Creating a star list\n",
    "        star_list = [Star(star_position(WIDTH), star_position(HEIGHT), window=WINDOW)]\n",
    "        \n",
    "        for i in range(int(WIDTH/30)):\n",
    "            star_list.append(Star(star_position(WIDTH), star_position(HEIGHT), window=WINDOW))\n",
    "        \n",
    "        self.star_list = star_list\n",
    "\n",
    "        #star_list_np = np.array([star_list.Rectangle.x, star_list.Rectangle.y], dtype=int) / 30 #Creating a np.array of position of stars in game space\n",
    "\n",
    "        self.state = Make_board(star_list=self.star_list, head=self.Hero, tail_list=self.Hero.list_of_tails)\n",
    "        print(type(self.state))\n",
    "        self.learing_time = 200\n",
    "        pass\n",
    "    \n",
    "    def step(self, action):\n",
    "        # INIT A NEXT STEP\n",
    "        \n",
    "        global FPS \n",
    "        local_FPS = self.Hero.score + FPS\n",
    "        CLOCK.tick(local_FPS) \n",
    "        WINDOW.fill(BACKGROUND)\n",
    "\n",
    "        if (self.Hero.score > self.last_score) and (len(self.star_list) != WIDTH/60):\n",
    "            self.star_list.pop(-1)\n",
    "            self.last_score = self.Hero.score\n",
    "\n",
    "        # Score sign\n",
    "        label = normal_size.render(\"Score: {0}\".format(self.Hero.score), 12, (0,0,0))\n",
    "        WINDOW.blit(label, (0, 0))\n",
    "        for i in self.star_list:\n",
    "            i.draw()\n",
    "        \n",
    "        reward = self.Hero.score\n",
    "        # MAKING ACTIONS\n",
    "        \n",
    "        #Difrent action changing state\n",
    "        # Left = 0, Up = 1, Right = 2, Down =3\n",
    "        if action == 0:\n",
    "            self.Hero.rotate(90)\n",
    "        if action == 2:\n",
    "            self.Hero.rotate(270)\n",
    "        if action == 3:\n",
    "            self.Hero.rotate(180)\n",
    "        if action == 1:\n",
    "            self.Hero.rotate(0)  \n",
    "\n",
    "\n",
    "        self.Hero.move() #Moving and colecting stars\n",
    "        for i in self.star_list:\n",
    "            self.Hero.collect_star(i)\n",
    "\n",
    "        # ENDING A STEP PROCESS\n",
    "        self.state = Make_board(star_list=self.star_list, head=self.Hero, tail_list=self.Hero.list_of_tails)\n",
    "\n",
    "        info = {}\n",
    "\n",
    "        if self.learing_time <= 0:\n",
    "            done = True\n",
    "        else:\n",
    "            self.learing_time -= 1\n",
    "            done = False\n",
    "\n",
    "        pygame.display.update() #Update at very end!\n",
    "\n",
    "        WINDOW.fill(BACKGROUND)    \n",
    "\n",
    "        return self.state, reward, done, info\n",
    "    \n",
    "    def render(self):\n",
    "        pass\n",
    "    \n",
    "    def reset(self):\n",
    "        self.Hero = Snake(window=WINDOW)\n",
    "        self.last_score = self.Hero.score  #Setting init score\n",
    "        \n",
    "        #Creating a star list\n",
    "        star_list = [Star(star_position(WIDTH), star_position(HEIGHT), window=WINDOW)]\n",
    "        \n",
    "        for i in range(int(WIDTH/30)):\n",
    "            star_list.append(Star(star_position(WIDTH), star_position(HEIGHT), window=WINDOW))\n",
    "        \n",
    "        self.star_list = star_list\n",
    "\n",
    "        #star_list_np = np.array(star_list, dtype=int) / 30 #Creating a np.array of position of stars in game space\n",
    "\n",
    "        self.state = Make_board(star_list=self.star_list, head=self.Hero, tail_list=self.Hero.list_of_tails)\n",
    "\n",
    "        self.learing_time = 200\n",
    "        \n",
    "        return self.state\n",
    "\n",
    "    def close(self):\n",
    "        pygame.quit()\n",
    "        pass"
   ]
  },
  {
   "cell_type": "code",
   "execution_count": 27,
   "metadata": {},
   "outputs": [
    {
     "name": "stdout",
     "output_type": "stream",
     "text": [
      "<class 'numpy.ndarray'>\n"
     ]
    }
   ],
   "source": [
    "env = SnakeEnv()\n",
    "env = DummyVecEnv([lambda: env])"
   ]
  },
  {
   "cell_type": "code",
   "execution_count": 28,
   "metadata": {},
   "outputs": [
    {
     "name": "stdout",
     "output_type": "stream",
     "text": [
      "Using cpu device\n"
     ]
    }
   ],
   "source": [
    "log_path = os.path.join('Training', 'Logs')\n",
    "model = PPO('MlpPolicy', env, verbose=1, tensorboard_log=log_path)"
   ]
  },
  {
   "cell_type": "code",
   "execution_count": 29,
   "metadata": {},
   "outputs": [
    {
     "name": "stdout",
     "output_type": "stream",
     "text": [
      "Logging to Training/Logs/PPO_10\n"
     ]
    }
   ],
   "source": [
    "model.learn(total_timesteps=10)"
   ]
  },
  {
   "cell_type": "code",
   "execution_count": null,
   "metadata": {},
   "outputs": [],
   "source": [
    "model.save(os.path.join('Training', 'Saved_models', 'Snake_PPO_100'))"
   ]
  },
  {
   "cell_type": "code",
   "execution_count": null,
   "metadata": {},
   "outputs": [],
   "source": [
    "env.close()"
   ]
  }
 ],
 "metadata": {
  "kernelspec": {
   "display_name": "Python 3.10.6 64-bit",
   "language": "python",
   "name": "python3"
  },
  "language_info": {
   "codemirror_mode": {
    "name": "ipython",
    "version": 3
   },
   "file_extension": ".py",
   "mimetype": "text/x-python",
   "name": "python",
   "nbconvert_exporter": "python",
   "pygments_lexer": "ipython3",
   "version": "3.10.6"
  },
  "orig_nbformat": 4,
  "vscode": {
   "interpreter": {
    "hash": "e7370f93d1d0cde622a1f8e1c04877d8463912d04d973331ad4851f04de6915a"
   }
  }
 },
 "nbformat": 4,
 "nbformat_minor": 2
}
